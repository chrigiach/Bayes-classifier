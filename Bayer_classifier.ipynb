{
  "nbformat": 4,
  "nbformat_minor": 0,
  "metadata": {
    "colab": {
      "provenance": [],
      "collapsed_sections": [],
      "authorship_tag": "ABX9TyP+3K0fOg7CO8ZBRkoL3hMI",
      "include_colab_link": true
    },
    "kernelspec": {
      "name": "python3",
      "display_name": "Python 3"
    },
    "language_info": {
      "name": "python"
    }
  },
  "cells": [
    {
      "cell_type": "markdown",
      "metadata": {
        "id": "view-in-github",
        "colab_type": "text"
      },
      "source": [
        "<a href=\"https://colab.research.google.com/github/chrigiach/Bayes-classifier/blob/main/Bayer_classifier.ipynb\" target=\"_parent\"><img src=\"https://colab.research.google.com/assets/colab-badge.svg\" alt=\"Open In Colab\"/></a>"
      ]
    },
    {
      "cell_type": "code",
      "execution_count": null,
      "metadata": {
        "id": "psUzLe8CMdwT"
      },
      "outputs": [],
      "source": [
        "# Pattern recognition course | ECE AUTH | 1st project\n",
        "# Giachoudis Christos | 9912 | Winter semester 2022"
      ]
    },
    {
      "cell_type": "markdown",
      "source": [
        "# **Part A**"
      ],
      "metadata": {
        "id": "b-yIbojLM1qA"
      }
    },
    {
      "cell_type": "code",
      "source": [
        "# A priori knowledge\n",
        "m1 = [0.4, 0.8] # mean values for class ω_1\n",
        "m2 = [1.5, 2.7] # mean values for class ω_2\n",
        "Sigma = [[1.5, 0],[0, 0.8]] # covariance matrix for ω_1 and ω_2\n",
        "p_1 = 0.95 # a priori probability for class ω_1\n",
        "p_2 = 0.05 # a priori probability for class ω_2\n"
      ],
      "metadata": {
        "id": "VgdtxE8eMtdR"
      },
      "execution_count": null,
      "outputs": []
    }
  ]
}